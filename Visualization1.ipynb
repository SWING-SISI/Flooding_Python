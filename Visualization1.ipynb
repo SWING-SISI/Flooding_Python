import pandas as pd
import matplotlib.pyplot as plt
import csv
import folium

geo_json = '/content/seoul_municipalities_geo_simple.json'

raw_data = [['종로구', 0.39],
            ['중구', 0.38],
            ['용산구', 0.22],
            ['성동구', 0.06],
            ['광진구', 0.32],
            ['동대문구', 0.66],
            ['중랑구', 0.17],
            ['성북구', 0.0],
            ['강북구', 0.13],
            ['도봉구', 0.03],
            ['노원구', 0.22],
            ['은평구', 0.19],
            ['서대문구', 0.25],
            ['마포구', 0.06],
            ['양천구', 0.29],
            ['강서구', 0.44],
            ['구로구', 0.12],
            ['금천구', 0.44],
            ['영등포구', 0.5],
            ['동작구', 0.32],
            ['관악구', 0.69],
            ['서초구', 0.2],
            ['강남구', 0.05],
            ['송파구', 0.36],
            ['강동구', 0.26]]

data = pd.DataFrame(raw_data, columns=['name', 'value'])
m = folium.Map(location=[37.566345, 126.977893], tiles='Stamen Terrain')
folium.Choropleth(
    geo_data=geo_json,
    name='choropleth',
    data=data,
    columns=['name', 'value'],
    key_on='feature.properties.SIG_KOR_NM',
    fill_color='YlGn',
    fill_opacity=0.7,
    line_opacity=0.2,
).add_to(m)

m
